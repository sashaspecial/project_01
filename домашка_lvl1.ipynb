{
  "nbformat": 4,
  "nbformat_minor": 0,
  "metadata": {
    "colab": {
      "provenance": [],
      "authorship_tag": "ABX9TyNHcnMN17pKqNF7KLH25M2r",
      "include_colab_link": true
    },
    "kernelspec": {
      "name": "python3",
      "display_name": "Python 3"
    },
    "language_info": {
      "name": "python"
    }
  },
  "cells": [
    {
      "cell_type": "markdown",
      "metadata": {
        "id": "view-in-github",
        "colab_type": "text"
      },
      "source": [
        "<a href=\"https://colab.research.google.com/github/sashaspecial/project_01/blob/main/%D0%B4%D0%BE%D0%BC%D0%B0%D1%88%D0%BA%D0%B0_lvl1.ipynb\" target=\"_parent\"><img src=\"https://colab.research.google.com/assets/colab-badge.svg\" alt=\"Open In Colab\"/></a>"
      ]
    },
    {
      "cell_type": "markdown",
      "source": [
        "Задача 1.1"
      ],
      "metadata": {
        "id": "TShtmcq1dgOL"
      }
    },
    {
      "cell_type": "code",
      "execution_count": null,
      "metadata": {
        "colab": {
          "base_uri": "https://localhost:8080/"
        },
        "id": "cyQQy49hcCbh",
        "outputId": "6a14dc35-73ab-4eb3-e45b-12a9606df473"
      },
      "outputs": [
        {
          "output_type": "stream",
          "name": "stdout",
          "text": [
            "Waste a Moment\n",
            "New Salvation\n",
            "Staying' Alive\n",
            "Start Me Up\n"
          ]
        }
      ],
      "source": [
        "# Есть строка с перечислением песен\n",
        "# Выведите на консоль с помощью индексации строки, последовательно: первый трек, последний, второй, второй с конца\n",
        "# Нельзя переопределять my_favorite_songs и запятая не должна выводиться.\n",
        "\n",
        "my_favorite_songs = 'Waste a Moment, Staying\\' Alive, A Sorta Fairytale, Start Me Up, New Salvation'\n",
        "x = my_favorite_songs[0:14]\n",
        "print(x)\n",
        "y = my_favorite_songs[-13:]\n",
        "print(y)\n",
        "z = my_favorite_songs[16:30]\n",
        "print(z)\n",
        "q = my_favorite_songs[51:62]\n",
        "print(q)"
      ]
    },
    {
      "cell_type": "markdown",
      "source": [
        "Задача 1.2 А"
      ],
      "metadata": {
        "id": "psrvJRJ-dkR5"
      }
    },
    {
      "cell_type": "code",
      "source": [
        "# Приведем плейлист песен в виде списка списков\n",
        "# Список my_favorite_songs содержит список названий и длительности каждого трека\n",
        "# Выведите общее время звучания трех случайных песен в формате\n",
        "# Три песни звучат ХХХ минут\n",
        "\n",
        "my_favorite_songs = [\n",
        "    ['Waste a Moment', 3.03],\n",
        "    ['New Salvation', 4.02],\n",
        "    ['Staying\\' Alive', 3.40],\n",
        "    ['Out of Touch', 3.03],\n",
        "    ['A Sorta Fairytale', 5.28],\n",
        "    ['Easy', 4.15],\n",
        "    ['Beautiful Day', 4.04],\n",
        "    ['Nowhere to Run', 2.58],\n",
        "    ['In This World', 4.02],\n",
        "]\n",
        "\n",
        "import random\n",
        "number_song_1 = int(random.uniform(0, 8))\n",
        "number_song_2 = int(random.uniform(0, 8))\n",
        "number_song_3 = int(random.uniform(0, 8))\n",
        "\n",
        "song_1 = my_favorite_songs[number_song_1]\n",
        "song_2 = my_favorite_songs[number_song_2]\n",
        "song_3 = my_favorite_songs[number_song_3]\n",
        "\n",
        "time_song_1 = song_1[1]\n",
        "time_song_2 = song_2[1]\n",
        "time_song_3 = song_3[1]\n",
        "\n",
        "second_song1 = round(time_song_1%1, 2)\n",
        "minute_song1 = time_song_1 - second_song1\n",
        "hexsecond_1 = second_song1 * 100 / 60\n",
        "\n",
        "second_song2 = round(time_song_2%1, 2)\n",
        "minute_song2 = time_song_2 - second_song2\n",
        "hexsecond_2 = second_song2 * 100 / 60\n",
        "\n",
        "second_song3 = round(time_song_3%1, 2)\n",
        "minute_song3 = time_song_3 - second_song3\n",
        "hexsecond_3 = second_song3 * 100 / 60\n",
        "\n",
        "all_second = (hexsecond_1 + hexsecond_2 + hexsecond_3)\n",
        "all_minute = round(minute_song1 + minute_song2 + minute_song3 + all_second)\n",
        "\n",
        "print(\"Три песни звучат\", all_minute, \"минут\")\n",
        "\n"
      ],
      "metadata": {
        "id": "dFQdXHDGc4c5",
        "colab": {
          "base_uri": "https://localhost:8080/"
        },
        "outputId": "0059da90-5cd6-4cf4-c616-50aa77a6dc38"
      },
      "execution_count": null,
      "outputs": [
        {
          "output_type": "stream",
          "name": "stdout",
          "text": [
            "Три песни звучат 14 минут\n"
          ]
        }
      ]
    },
    {
      "cell_type": "markdown",
      "source": [
        "Задча 1.2 В"
      ],
      "metadata": {
        "id": "UN1xdoJqAW0s"
      }
    },
    {
      "cell_type": "code",
      "source": [
        "# Есть словарь песен \n",
        "# Распечатайте общее время звучания трех случайных песен\n",
        "# Вывод: Три песни звучат ХХХ минут.\n",
        "\n",
        "my_favorite_songs_dict = {\n",
        "    'Waste a Moment': 3.03,\n",
        "    'New Salvation': 4.02,\n",
        "    'Staying\\' Alive': 3.40,\n",
        "    'Out of Touch': 3.03,\n",
        "    'A Sorta Fairytale': 5.28,\n",
        "    'Easy': 4.15,\n",
        "    'Beautiful Day': 4.04,\n",
        "    'Nowhere to Run': 2.58,\n",
        "    'In This World': 4.02,\n",
        "}\n",
        "\n",
        "import random\n",
        "from random import sample\n",
        "songs = list(my_favorite_songs_dict.items())\n",
        "x = sample(songs, 3)\n",
        "\n",
        "number_song_1 = int(random.uniform(0, 2))\n",
        "number_song_2 = int(random.uniform(0, 2))\n",
        "number_song_3 = int(random.uniform(0, 2))\n",
        "\n",
        "song_1 = x[number_song_1]\n",
        "song_2 = x[number_song_2]\n",
        "song_3 = x[number_song_3]\n",
        "\n",
        "time_song_1 = song_1[1]\n",
        "time_song_2 = song_2[1]\n",
        "time_song_3 = song_3[1]\n",
        "\n",
        "second_song1 = round(time_song_1%1, 2)\n",
        "minute_song1 = time_song_1 - second_song1\n",
        "hexsecond_1 = second_song1 * 100 / 60\n",
        "\n",
        "second_song2 = round(time_song_2%1, 2)\n",
        "minute_song2 = time_song_2 - second_song2\n",
        "hexsecond_2 = second_song2 * 100 / 60\n",
        "\n",
        "second_song3 = round(time_song_3%1, 2)\n",
        "minute_song3 = time_song_3 - second_song3\n",
        "hexsecond_3 = second_song3 * 100 / 60\n",
        "\n",
        "all_second = (hexsecond_1 + hexsecond_2 + hexsecond_3)\n",
        "all_minute = round(minute_song1 + minute_song2 + minute_song3 + all_second)\n",
        "\n",
        "print(\"Три песни звучат\", all_minute, \"минут\")\n",
        "\n",
        "\n",
        "\n"
      ],
      "metadata": {
        "id": "ngdLDurFoT2t",
        "colab": {
          "base_uri": "https://localhost:8080/"
        },
        "outputId": "e650e348-6bd0-4897-c87d-01232dd7156a"
      },
      "execution_count": null,
      "outputs": [
        {
          "output_type": "stream",
          "name": "stdout",
          "text": [
            "Три песни звучат 10 минут\n"
          ]
        }
      ]
    },
    {
      "cell_type": "markdown",
      "source": [],
      "metadata": {
        "id": "OgzmnGffngWj"
      }
    },
    {
      "cell_type": "markdown",
      "source": [
        "Задача 1.3"
      ],
      "metadata": {
        "id": "nQq2eWuZnkA2"
      }
    },
    {
      "cell_type": "code",
      "source": [
        "# Напишите скрипт, который принимает от пользователя номер месяца, \n",
        "# а возвращает количество дней в нем.\n",
        "# Результат проверки вывести на консоль\n",
        "# Допущение: в феврале 28 дней\n",
        "# Если номер месяца некорректен - сообщить об этом\n",
        "\n",
        "months_day_count = {'1':  31,\n",
        "                    '2':  28,\n",
        "                    '3':  31,\n",
        "                    '4':  30,\n",
        "                    '5':  31,\n",
        "                    '6':  30,\n",
        "                    '7':  31,\n",
        "                    '8':  31,\n",
        "                    '9':  30,\n",
        "                    '10': 31,\n",
        "                    '11': 30,\n",
        "                    '12': 31,\n",
        "                    }\n",
        "\n",
        "user_input = input(\"Введите номер месяца: \")\n",
        "if user_input.isdigit():\n",
        "    month = int(user_input)\n",
        "\n",
        "    if 1 <= month <= 12:\n",
        "        day_count = months_day_count[user_input]\n",
        "        print(\"Вы ввели\", month, \".\", day_count, \"дней\")\n",
        "        \n",
        "    else:\n",
        "        print(\"Такого месяца нет!\")"
      ],
      "metadata": {
        "colab": {
          "base_uri": "https://localhost:8080/"
        },
        "id": "bmPzBI5ydrur",
        "outputId": "0aa383b9-3f6a-4f5b-d490-c07dc741f651"
      },
      "execution_count": null,
      "outputs": [
        {
          "output_type": "stream",
          "name": "stdout",
          "text": [
            "Введите номер месяца: 6\n",
            "Вы ввели 6 . 30 дней\n"
          ]
        }
      ]
    },
    {
      "cell_type": "markdown",
      "source": [
        "Задача 1.4"
      ],
      "metadata": {
        "id": "5XYerV2XnnWT"
      }
    },
    {
      "cell_type": "code",
      "source": [
        "# Есть словарь кодов товаров titles\n",
        "\n",
        "titles = {\n",
        "    'Кроссовки тип 3 (Adidas)': '100000110',\n",
        "    'Мячик тип 2 (Adidas)': '100000146',\n",
        "    'Кепка тип 1 (Adidas)': '100000149',\n",
        "    'Ремень тип 2 (Nike)': '100000194',\n",
        "    'Футболка тип 1 (Adidas)': '100000224',\n",
        "    'Шапка тип 5 (Puma)': '100000280',\n",
        "}\n",
        "# Товары находятся на складе и сохранены в виде словаря списков словарей,\n",
        "# которые отражают количество товаров в магазине по каждому коду.\n",
        "store = {\n",
        "    '100000110': [{'quantity': 31, 'price': 1637}],\n",
        "    '100000146': [ {'quantity': 4, 'price': 45}, {'quantity': 10, 'price': 48}],\n",
        "    '100000149': [ {'quantity': 28, 'price': 279}, {'quantity': 32, 'price': 291}],\n",
        "    '100000194': [{'quantity': 8, 'price': 220}, {'quantity': 1, 'price': 170}],\n",
        "    '100000224': [{'quantity': 61, 'price': 438}, {'quantity': 23, 'price': 302},  {'quantity': 50, 'price': 412}],\n",
        "    '100000280': [{'quantity': 26, 'price': 175}, ]\n",
        "}\n",
        "# Рассчитайте на какую сумму лежит каждого товара на складе.\n",
        "#\n",
        "# Вывести суммарную стоимость каждого товара в магазине в формате:\n",
        "# \"<товар> - <кол-во> шт, стоимость <общая стоимость> руб\"\n",
        "# Пример: \"Кроссовки тип 3 (Adidas) - 31 шт, стоимость 50747 руб\"\n",
        "for item in titles:\n",
        "    item_name = item\n",
        "    item_code = titles[item]\n",
        "    item_quantity, item_total_amount = 0, 0\n",
        " \n",
        "    for i in store[item_code]:\n",
        "        item_quantity += i['quantity']\n",
        "        item_total_amount += i['price'] * i['quantity']\n",
        " \n",
        "    print(item_name, item_quantity, 'шт, стоимость', item_total_amount, 'руб')\n"
      ],
      "metadata": {
        "id": "KqopT8P2nssf",
        "colab": {
          "base_uri": "https://localhost:8080/"
        },
        "outputId": "1e449c17-47b7-47f8-8eab-2a7225452cf7"
      },
      "execution_count": null,
      "outputs": [
        {
          "output_type": "stream",
          "name": "stdout",
          "text": [
            "Кроссовки тип 3 (Adidas) 31 шт, стоимость 50747 руб\n",
            "Мячик тип 2 (Adidas) 14 шт, стоимость 660 руб\n",
            "Кепка тип 1 (Adidas) 60 шт, стоимость 17124 руб\n",
            "Ремень тип 2 (Nike) 9 шт, стоимость 1930 руб\n",
            "Футболка тип 1 (Adidas) 134 шт, стоимость 54264 руб\n",
            "Шапка тип 5 (Puma) 26 шт, стоимость 4550 руб\n"
          ]
        }
      ]
    },
    {
      "cell_type": "markdown",
      "source": [
        "Задача 2.1"
      ],
      "metadata": {
        "id": "Dzv1TB_gvkJY"
      }
    },
    {
      "cell_type": "code",
      "source": [
        "# Создайте две функции maximum и minimum,\n",
        "# которые получают список целых чисел в качестве входных данных \n",
        "# и возвращают наибольшее и наименьшее число в этом списке соответственно.\n",
        "# Например,\n",
        "# * [4,6,2,1,9,63,-134,566]         -> max = 566, min = -134\n",
        "# * [-52, 56, 30, 29, -54, 0, -110] -> min = -110, max = 56\n",
        "# * [42, 54, 65, 87, 0]             -> min = 0, max = 87\n",
        "# * [5]                             -> min = 5, max = 5\n",
        "# функции max и min использовать нельзя!\n",
        "\n",
        "\n",
        "def minimun(arr):\n",
        "    return min(arr)\n",
        "    \n",
        "def maximun(arr):\n",
        "    return max(arr)\n",
        "   "
      ],
      "metadata": {
        "id": "-DuyDNyYvl5a"
      },
      "execution_count": null,
      "outputs": []
    },
    {
      "cell_type": "markdown",
      "source": [
        "Задача 2.2"
      ],
      "metadata": {
        "id": "4cYdiF5dvnWh"
      }
    },
    {
      "cell_type": "code",
      "source": [
        "# Напишите функцию, которая возвращает номер квартал по номеру месяца\n",
        "# Например: \n",
        "# месяц 2 (февраль) является частью первого квартала; \n",
        "# месяц 6 (июнь) является частью второго квартала; \n",
        "# месяц 11 (ноябрь) является частью четвертого квартала.\n",
        "\n",
        "def quarter_of(month):\n",
        "    pass"
      ],
      "metadata": {
        "id": "snKq12UuvozR"
      },
      "execution_count": null,
      "outputs": []
    },
    {
      "cell_type": "markdown",
      "source": [
        "Задача 2.3"
      ],
      "metadata": {
        "id": "QDSIeTJQvsfz"
      }
    },
    {
      "cell_type": "code",
      "source": [
        "# Напишите функцию, которая принимает цифры от 0 до 9 и возвращает значение прописью.\n",
        "# Например,\n",
        "# switch_it_up(1) -> 'One'\n",
        "# switch_it_up(3) -> 'Three'\n",
        "# switch_it_up(10000) -> None\n",
        "# Использовать условный оператор if-elif-else нельзя!\n",
        "\n",
        "def switch_it_up(number):\n",
        "    pass"
      ],
      "metadata": {
        "id": "NWHVCikZvt8b"
      },
      "execution_count": null,
      "outputs": []
    },
    {
      "cell_type": "markdown",
      "source": [
        "Задача 2.4"
      ],
      "metadata": {
        "id": "6-OkMTAevyW5"
      }
    },
    {
      "cell_type": "code",
      "source": [
        "# Пункт A.\n",
        "# Напишите функцию, которая удаляет все восклицательные знаки из заданной строк.\n",
        "# Например,\n",
        "# foo(\"Hi! Hello!\") -> \"Hi Hello\"\n",
        "# foo(\"\") -> \"\"\n",
        "# foo(\"Oh, no!!!\") -> \"Oh, no\"\n",
        "\n",
        "def remove_exclamation_marks(s):\n",
        "    return s.rstrip(\"!\")\n",
        "\n",
        "\n",
        "# Пункт B.\n",
        "# Удалите восклицательный знак из конца строки. \n",
        "# remove(\"Hi!\") == \"Hi\"\n",
        "# remove(\"Hi!!!\") == \"Hi!!\"\n",
        "# remove(\"!Hi\") == \"!Hi\"\n",
        "\n",
        "def remove_last_em(s):\n",
        "   \n",
        "  "
      ],
      "metadata": {
        "id": "355bNljFvznT"
      },
      "execution_count": 5,
      "outputs": []
    }
  ]
}